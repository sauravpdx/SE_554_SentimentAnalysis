{
 "cells": [
  {
   "cell_type": "code",
   "execution_count": 18,
   "metadata": {},
   "outputs": [
    {
     "name": "stderr",
     "output_type": "stream",
     "text": [
      "[nltk_data] Downloading package punkt to\n",
      "[nltk_data]     /Users/sauravkumar/nltk_data...\n",
      "[nltk_data]   Package punkt is already up-to-date!\n"
     ]
    }
   ],
   "source": [
    "import nltk\n",
    "from nltk.corpus import wordnet\n",
    "from nltk.tokenize import word_tokenize\n",
    "\n",
    "nltk.download('punkt')\n",
    "\n",
    "class AntonymReplacer():\n",
    "\n",
    "# This method provide antonym nltk library\n",
    "  def get_antonym(self, word):\n",
    "    antonyms = []\n",
    "    for syn in wordnet.synsets(word):\n",
    "      for lemma in syn.lemmas():\n",
    "        if lemma.antonyms():\n",
    "          antonyms.append(lemma.antonyms()[0].name())\n",
    "    if len(antonyms) >= 1:\n",
    "      return antonyms[0]\n",
    "    else:\n",
    "      return None\n",
    "    \n",
    "# This method replaces the not word from the sentences with antonym\n",
    "  def replace_neg(self,string):\n",
    "    i=0\n",
    "    sent = word_tokenize(string)\n",
    "    \n",
    "    len_sent = len(sent)\n",
    "    words = []\n",
    "    sentence = ''\n",
    "    while i < len_sent:\n",
    "      word = sent[i]\n",
    "      if word == 'not' and i+1 < len_sent:\n",
    "        ant = self.get_antonym(sent[i+1]) \n",
    "        if ant:\n",
    "          words.append(ant)\n",
    "          sentence += ant + \" \"\n",
    "          i+=2\n",
    "          continue\n",
    "      words.append(word)\n",
    "      sentence += word + \" \"\n",
    "      i+=1\n",
    "    return sentence\n",
    "\n",
    "\n",
    "\n",
    "test = AntonymReplacer()"
   ]
  },
  {
   "cell_type": "code",
   "execution_count": 19,
   "metadata": {},
   "outputs": [
    {
     "data": {
      "text/plain": [
       "'I am unhappy '"
      ]
     },
     "execution_count": 19,
     "metadata": {},
     "output_type": "execute_result"
    }
   ],
   "source": [
    "test.replace_neg(\"I am not happy\") "
   ]
  },
  {
   "cell_type": "code",
   "execution_count": null,
   "metadata": {},
   "outputs": [],
   "source": []
  }
 ],
 "metadata": {
  "kernelspec": {
   "display_name": "Python 3.9.6 64-bit",
   "language": "python",
   "name": "python3"
  },
  "language_info": {
   "codemirror_mode": {
    "name": "ipython",
    "version": 3
   },
   "file_extension": ".py",
   "mimetype": "text/x-python",
   "name": "python",
   "nbconvert_exporter": "python",
   "pygments_lexer": "ipython3",
   "version": "3.9.6"
  },
  "orig_nbformat": 4,
  "vscode": {
   "interpreter": {
    "hash": "aee8b7b246df8f9039afb4144a1f6fd8d2ca17a180786b69acc140d282b71a49"
   }
  }
 },
 "nbformat": 4,
 "nbformat_minor": 2
}
